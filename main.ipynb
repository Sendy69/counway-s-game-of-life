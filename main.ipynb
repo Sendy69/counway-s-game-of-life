{
 "cells": [
  {
   "cell_type": "code",
   "execution_count": null,
   "id": "db0a2816-66b2-43aa-8cd6-6a8ed1b4b0dd",
   "metadata": {},
   "outputs": [],
   "source": [
    "import numpy as np\n",
    "\n",
    "frame = np.array([[0, 0, 0, 0, 0, 0, 0],\n",
    "                     [0, 0, 0, 0, 0, 0, 0],\n",
    "                     [0, 0, 0, 0, 0, 0, 0],\n",
    "                     [0, 0, 1, 1, 1, 0, 0],\n",
    "                     [0, 0, 0, 0, 0, 0, 0],\n",
    "                     [0, 0, 0, 0, 0, 0, 0],\n",
    "                     [0, 0, 0, 0, 0, 0, 0],])\n",
    "\n",
    "def compute_number_neighbours(paded_frame , index_line , index_column):\n",
    "    for row, col in paded_frame."
   ]
  }
 ],
 "metadata": {
  "kernelspec": {
   "display_name": "Python 3 (ipykernel)",
   "language": "python",
   "name": "python3"
  },
  "language_info": {
   "codemirror_mode": {
    "name": "ipython",
    "version": 3
   },
   "file_extension": ".py",
   "mimetype": "text/x-python",
   "name": "python",
   "nbconvert_exporter": "python",
   "pygments_lexer": "ipython3",
   "version": "3.12.0"
  }
 },
 "nbformat": 4,
 "nbformat_minor": 5
}
